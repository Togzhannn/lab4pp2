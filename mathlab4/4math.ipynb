{
 "cells": [
  {
   "cell_type": "markdown",
   "id": "552db21e",
   "metadata": {},
   "source": [
    "Python Math library"
   ]
  },
  {
   "cell_type": "code",
   "execution_count": 1,
   "id": "8711e8aa",
   "metadata": {},
   "outputs": [
    {
     "name": "stdout",
     "output_type": "stream",
     "text": [
      "Degree: 15\n",
      "Radian: 0.261799\n"
     ]
    }
   ],
   "source": [
    "import math\n",
    "\n",
    "def degrees_to_radians(degrees):\n",
    "    return degrees * (math.pi / 180)\n",
    "\n",
    "degree = float(input(\"Degree: \"))\n",
    "radian = degrees_to_radians(degree)\n",
    "\n",
    "print(f\"Radian: {radian:.6f}\")"
   ]
  },
  {
   "cell_type": "code",
   "execution_count": 2,
   "id": "c3be540c",
   "metadata": {},
   "outputs": [
    {
     "name": "stdout",
     "output_type": "stream",
     "text": [
      "Enter the length of the first base: 5\n",
      "Enter the length of the second base: 5\n",
      "Enter the height of the trapezoid: 6\n",
      "The area of the trapezoid is: 30.00 square units\n"
     ]
    }
   ],
   "source": [
    "def trapezoid_area(base1, base2, height):\n",
    "    return ((base1 + base2) * height) / 2\n",
    "\n",
    "base1 = float(input(\"Enter the length of the first base: \"))\n",
    "base2 = float(input(\"Enter the length of the second base: \"))\n",
    "height = float(input(\"Enter the height of the trapezoid: \"))\n",
    "\n",
    "area = trapezoid_area(base1, base2, height)\n",
    "\n",
    "print(f\"The area of the trapezoid is: {area:.2f} square units\")"
   ]
  },
  {
   "cell_type": "code",
   "execution_count": 4,
   "id": "32e4b554",
   "metadata": {},
   "outputs": [
    {
     "name": "stdout",
     "output_type": "stream",
     "text": [
      "Input number of sides: 4\n",
      "Input the length of a side: 25\n",
      "The area of the polygon is: 625.00\n"
     ]
    }
   ],
   "source": [
    "def regular_polygon_area(n, s):\n",
    "    \n",
    "    return (n * s**2) / (4 * math.tan(math.pi / n))\n",
    "\n",
    "n = int(input(\"Input number of sides: \"))\n",
    "s = float(input(\"Input the length of a side: \"))\n",
    "\n",
    "area = regular_polygon_area(n, s)\n",
    "\n",
    "print(f\"The area of the polygon is: {area:.2f}\")"
   ]
  },
  {
   "cell_type": "code",
   "execution_count": 5,
   "id": "79340590",
   "metadata": {},
   "outputs": [
    {
     "name": "stdout",
     "output_type": "stream",
     "text": [
      "Enter the base of the parallelogram: 4\n",
      "Enter the height of the parallelogram: 6\n",
      "The area of the parallelogram is: 24.00\n"
     ]
    }
   ],
   "source": [
    "def parallelogram_area(base, height):\n",
    "    return base * height\n",
    "\n",
    "\n",
    "base = float(input(\"Enter the base of the parallelogram: \"))\n",
    "height = float(input(\"Enter the height of the parallelogram: \"))\n",
    "\n",
    "area = parallelogram_area(base, height)\n",
    "\n",
    "print(f\"The area of the parallelogram is: {area:.2f}\")"
   ]
  }
 ],
 "metadata": {
  "kernelspec": {
   "display_name": "Python 3 (ipykernel)",
   "language": "python",
   "name": "python3"
  },
  "language_info": {
   "codemirror_mode": {
    "name": "ipython",
    "version": 3
   },
   "file_extension": ".py",
   "mimetype": "text/x-python",
   "name": "python",
   "nbconvert_exporter": "python",
   "pygments_lexer": "ipython3",
   "version": "3.11.5"
  }
 },
 "nbformat": 4,
 "nbformat_minor": 5
}
