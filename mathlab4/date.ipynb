{
 "cells": [
  {
   "cell_type": "code",
   "execution_count": 1,
   "id": "f590a901",
   "metadata": {},
   "outputs": [
    {
     "name": "stdout",
     "output_type": "stream",
     "text": [
      "Date five days ago: 2025-02-07\n"
     ]
    }
   ],
   "source": [
    "import datetime\n",
    "\n",
    "current_date = datetime.date.today()\n",
    "new_date = current_date - datetime.timedelta(days=5)\n",
    "print(f\"Date five days ago: {new_date}\")"
   ]
  },
  {
   "cell_type": "code",
   "execution_count": 2,
   "id": "3aefee9c",
   "metadata": {},
   "outputs": [
    {
     "name": "stdout",
     "output_type": "stream",
     "text": [
      "Yesterday: 2025-02-11\n",
      "Today: 2025-02-12\n",
      "Tomorrow: 2025-02-13\n"
     ]
    }
   ],
   "source": [
    "yesterday = current_date - datetime.timedelta(days=1)\n",
    "tomorrow = current_date + datetime.timedelta(days=1)\n",
    "print(f\"Yesterday: {yesterday}\")\n",
    "print(f\"Today: {current_date}\")\n",
    "print(f\"Tomorrow: {tomorrow}\")"
   ]
  },
  {
   "cell_type": "code",
   "execution_count": 4,
   "id": "d734da2f",
   "metadata": {},
   "outputs": [
    {
     "name": "stdout",
     "output_type": "stream",
     "text": [
      "Difference in seconds: 86400.0\n"
     ]
    }
   ],
   "source": [
    "date1 = datetime.datetime(2024, 1, 1, 12, 0, 0)\n",
    "date2 = datetime.datetime(2024, 1, 2, 12, 0, 0)\n",
    "diff_seconds = (date2 - date1).total_seconds()\n",
    "print(f\"Difference in seconds: {diff_seconds}\")"
   ]
  },
  {
   "cell_type": "code",
   "execution_count": 5,
   "id": "e01258bd",
   "metadata": {},
   "outputs": [
    {
     "name": "stdout",
     "output_type": "stream",
     "text": [
      "Difference in seconds: 86400.0\n"
     ]
    }
   ],
   "source": [
    "date1 = datetime.datetime(2024, 1, 1, 12, 0, 0)\n",
    "date2 = datetime.datetime(2024, 1, 2, 12, 0, 0)\n",
    "diff_seconds = (date2 - date1).total_seconds()\n",
    "print(f\"Difference in seconds: {diff_seconds}\")"
   ]
  }
 ],
 "metadata": {
  "kernelspec": {
   "display_name": "Python 3 (ipykernel)",
   "language": "python",
   "name": "python3"
  },
  "language_info": {
   "codemirror_mode": {
    "name": "ipython",
    "version": 3
   },
   "file_extension": ".py",
   "mimetype": "text/x-python",
   "name": "python",
   "nbconvert_exporter": "python",
   "pygments_lexer": "ipython3",
   "version": "3.11.5"
  }
 },
 "nbformat": 4,
 "nbformat_minor": 5
}
