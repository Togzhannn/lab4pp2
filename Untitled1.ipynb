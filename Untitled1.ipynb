{
 "cells": [
  {
   "cell_type": "code",
   "execution_count": 1,
   "id": "d50f77a5",
   "metadata": {},
   "outputs": [
    {
     "name": "stdout",
     "output_type": "stream",
     "text": [
      "Enter the value of N: 4\n",
      "1\n",
      "4\n",
      "9\n",
      "16\n"
     ]
    }
   ],
   "source": [
    "def square_generator(N):\n",
    "    for i in range(1, N + 1):\n",
    "        yield i ** 2 \n",
    "\n",
    "N = int(input(\"Enter the value of N: \"))\n",
    "\n",
    "for square in square_generator(N):\n",
    "    print(square)"
   ]
  },
  {
   "cell_type": "code",
   "execution_count": 2,
   "id": "56c4d29e",
   "metadata": {},
   "outputs": [
    {
     "name": "stdout",
     "output_type": "stream",
     "text": [
      "Enter the value of n: 3\n",
      "0, 2\n"
     ]
    }
   ],
   "source": [
    "def even_numbers(n):\n",
    "    for i in range(0, n + 1, 2):  \n",
    "        yield i\n",
    "\n",
    "n = int(input(\"Enter the value of n: \"))\n",
    "\n",
    "print(*even_numbers(n), sep=\", \")\n"
   ]
  },
  {
   "cell_type": "code",
   "execution_count": 3,
   "id": "bede18d6",
   "metadata": {},
   "outputs": [
    {
     "name": "stdout",
     "output_type": "stream",
     "text": [
      "Enter the value of n: 24\n",
      "0, 12, 24\n"
     ]
    }
   ],
   "source": [
    "def divisible_by_3_and_4(n):\n",
    "    for i in range(0, n + 1):\n",
    "        if i % 3 == 0 and i % 4 == 0:  \n",
    "            yield i\n",
    "\n",
    "n = int(input(\"Enter the value of n: \"))\n",
    "\n",
    "print(\", \".join(map(str, divisible_by_3_and_4(n))))"
   ]
  },
  {
   "cell_type": "code",
   "execution_count": 4,
   "id": "7f778444",
   "metadata": {},
   "outputs": [
    {
     "name": "stdout",
     "output_type": "stream",
     "text": [
      "Enter the start number (a): 2\n",
      "Enter the end number (b): 5\n",
      "4\n",
      "9\n",
      "16\n",
      "25\n"
     ]
    }
   ],
   "source": [
    "def squares(a, b):\n",
    "    for i in range(a, b + 1):  \n",
    "        yield i ** 2  \n",
    "\n",
    "a = int(input(\"Enter the start number (a): \"))\n",
    "b = int(input(\"Enter the end number (b): \"))\n",
    "\n",
    "for square in squares(a, b):\n",
    "    print(square)"
   ]
  },
  {
   "cell_type": "code",
   "execution_count": 5,
   "id": "d9161cb5",
   "metadata": {},
   "outputs": [
    {
     "name": "stdout",
     "output_type": "stream",
     "text": [
      "Enter a number (n): 5\n",
      "5\n",
      "4\n",
      "3\n",
      "2\n",
      "1\n",
      "0\n"
     ]
    }
   ],
   "source": [
    "def countdown(n):\n",
    "    for i in range(n, -1, -1): \n",
    "        yield i  \n",
    "\n",
    "n = int(input(\"Enter a number (n): \"))\n",
    "\n",
    "for num in countdown(n):\n",
    "    print(num)"
   ]
  }
 ],
 "metadata": {
  "kernelspec": {
   "display_name": "Python 3 (ipykernel)",
   "language": "python",
   "name": "python3"
  },
  "language_info": {
   "codemirror_mode": {
    "name": "ipython",
    "version": 3
   },
   "file_extension": ".py",
   "mimetype": "text/x-python",
   "name": "python",
   "nbconvert_exporter": "python",
   "pygments_lexer": "ipython3",
   "version": "3.11.5"
  }
 },
 "nbformat": 4,
 "nbformat_minor": 5
}
